{
 "cells": [
  {
   "cell_type": "code",
   "execution_count": null,
   "metadata": {},
   "outputs": [],
   "source": [
    "def factorial(n):\n",
    "    if n==0 or n==1:\n",
    "        return 1\n",
    "    else:\n",
    "        return n*factorial(n-1)\n",
    "    \n",
    "def nCr(n,r):\n",
    "    return factorial(n)/(factorial(r) * factorial(n-r))\n",
    "\n",
    "arr=map(float,input().split())\n",
    "p=arr[0]/sum(arr)\n",
    "q=arr[1]/sum(arr)\n",
    "sum1=0\n",
    "for i in range(3,7):\n",
    "    temp=nCr(6,i)\n",
    "    temp1=(p**i)*(q**(6-i))\n",
    "    sum1+= temp*temp1\n",
    "print (round(sum1,3))"
   ]
  },
  {
   "cell_type": "code",
   "execution_count": null,
   "metadata": {},
   "outputs": [],
   "source": [
    "p,n=map(float,input().split())\n",
    "p/=100\n",
    "q=1-p\n",
    "def factorial(n):\n",
    "    if n==0 or n==1:\n",
    "        return 1\n",
    "    else:\n",
    "        return n*factorial(n-1)\n",
    "    \n",
    "def nCr(n,r):\n",
    "    return factorial(n)/(factorial(r) * factorial(n-r))\n",
    "\n",
    "firstSum=0\n",
    "for i in range(0,3):\n",
    "    ncr=nCr(n,i)\n",
    "    temp=(p**i) * (q** (n-i))\n",
    "    firstSum+=ncr*temp\n",
    "    \n",
    "print (round(firstSum,3))\n",
    "\n",
    "secondSum=0\n",
    "for i in range(2,11):\n",
    "    ncr=nCr(n,i)\n",
    "    temp=(p**i) * (q** (n-i))\n",
    "    secondSum+=ncr*temp\n",
    "\n",
    "print (round(secondSum,3))    "
   ]
  },
  {
   "cell_type": "code",
   "execution_count": null,
   "metadata": {},
   "outputs": [],
   "source": [
    "import math\n",
    "mean,sd=map(float,input().split())\n",
    "x=input()\n",
    "y1,y2=map(float,input().split())\n",
    "\n",
    "def normalDistribution(x,mean,sd):\n",
    "    return round(0.5 * (1 + math.erf((x - mean) / (sd * (2 ** 0.5)))),3)\n",
    "\n",
    "print (normalDistribution(x,mean,sd))\n",
    "print (normalDistribution(y2,mean,sd)-normalDistribution(y1,mean,sd))"
   ]
  },
  {
   "cell_type": "code",
   "execution_count": null,
   "metadata": {},
   "outputs": [],
   "source": [
    "import math\n",
    "mean,sd=map(float,raw_input().split())\n",
    "x,y=input(),input()\n",
    "\n",
    "def normalDistribution(x, mean, sd):\n",
    "    return round(0.5 * 100 * (1 + math.erf((x - mean)/ (sd * math.sqrt(2)))), 3)\n",
    "\n",
    "print round(100 - normalDistribution(x, mean, sd), 2)\n",
    "print round(100 - normalDistribution(y, mean, sd), 2)\n",
    "print round(normalDistribution(60, 70, 10), 2)"
   ]
  },
  {
   "cell_type": "code",
   "execution_count": null,
   "metadata": {},
   "outputs": [],
   "source": [
    "mean = 500\n",
    "std = 80\n",
    "n = 100\n",
    "z = 1.96\n",
    "\n",
    "mean = mean\n",
    "std = std / n**(1/2)\n",
    "\n",
    "print(round(mean - std * z, 2))\n",
    "print(round(mean + std * z, 2))"
   ]
  },
  {
   "cell_type": "code",
   "execution_count": null,
   "metadata": {},
   "outputs": [],
   "source": [
    "import math\n",
    "def cdf(x, mean, std):\n",
    "    return 1/2*(1+math.erf((x-mean) / std / 2**(1/2)))\n",
    "\n",
    "\n",
    "mean = 2.4\n",
    "std = 2\n",
    "n = 100\n",
    "target = 250\n",
    "\n",
    "mean_s = n * mean\n",
    "std_s = std * n**(1/2)\n",
    "\n",
    "print(round(cdf(target, mean_s, std_s), 4))"
   ]
  },
  {
   "cell_type": "code",
   "execution_count": null,
   "metadata": {},
   "outputs": [],
   "source": [
    "mean = 500\n",
    "std = 80\n",
    "n = 100\n",
    "z = 1.96\n",
    "\n",
    "mean = mean\n",
    "std = std / n**(1/2)\n",
    "\n",
    "print(round(mean - std * z, 2))\n",
    "print(round(mean + std * z, 2))"
   ]
  },
  {
   "cell_type": "code",
   "execution_count": null,
   "metadata": {},
   "outputs": [],
   "source": [
    "N = int(input())\n",
    "X = list(map(float,input().strip().split()))\n",
    "Y = list(map(float,input().strip().split()))\n",
    "\n",
    "mu_x = sum(X) / N\n",
    "mu_y = sum(Y) / N\n",
    "\n",
    "stdv_x = (sum([(i - mu_x)**2 for i in X]) / N)**0.5\n",
    "stdv_y = (sum([(i - mu_y)**2 for i in Y]) / N)**0.5\n",
    "\n",
    "\n",
    "covariance = sum([(X[i] - mu_x) * (Y[i] -mu_y) for i in range(N)])\n",
    "\n",
    "correlation_coefficient = covariance / (N * stdv_x * stdv_y)\n",
    "\n",
    "print(round(correlation_coefficient,3))"
   ]
  },
  {
   "cell_type": "code",
   "execution_count": null,
   "metadata": {},
   "outputs": [],
   "source": [
    "n = 5\n",
    "xy = [list(map(int, input().split())) for _ in range(n)]\n",
    "'''\n",
    "print(xy)\n",
    "for x,y in xy:\n",
    "    print(x,end=', ')\n",
    "    print(y)\n",
    "'''\n",
    "sx, sy, sx2, sxy = map(sum, zip(*[(x, y, x**2, x * y) for x, y in xy]))\n",
    "b = (n * sxy - sx * sy) / (n * sx2 - sx**2)\n",
    "a = (sy / n) - b * (sx / n)\n",
    "print('{:.3f}'.format(a + b * 80))"
   ]
  },
  {
   "cell_type": "code",
   "execution_count": null,
   "metadata": {},
   "outputs": [],
   "source": [
    "from sklearn.linear_model import LinearRegression\n",
    "import numpy as np\n",
    "\n",
    "if __name__ == '__main__':\n",
    "    m, n = map(int, input().split())\n",
    "\n",
    "    x = []\n",
    "    y = []\n",
    "\n",
    "    for _ in range(n):\n",
    "        data = input().strip().split(' ')\n",
    "        x.append(data[0:m])\n",
    "        y.append(data[m:m+1])\n",
    "\n",
    "    lm = LinearRegression()\n",
    "    lm.fit(x, y)\n",
    "    a = lm.intercept_\n",
    "    b = lm.coef_\n",
    "\n",
    "    \n",
    "    q = int(input())\n",
    "    xPedict = []\n",
    "    for _ in range(q):\n",
    "        xPedict.append(input().strip().split(' '))\n",
    "    \n",
    "    ndata = np.array(xPedict, float)\n",
    "    temp = np.dot(ndata,b[0])\n",
    "    Y_new = a + temp\n",
    "\n",
    "    for i in Y_new:\n",
    "        print(\"%.2f\" % i)"
   ]
  }
 ],
 "metadata": {
  "kernelspec": {
   "display_name": "Python 3",
   "language": "python",
   "name": "python3"
  },
  "language_info": {
   "codemirror_mode": {
    "name": "ipython",
    "version": 3
   },
   "file_extension": ".py",
   "mimetype": "text/x-python",
   "name": "python",
   "nbconvert_exporter": "python",
   "pygments_lexer": "ipython3",
   "version": "3.8.3"
  }
 },
 "nbformat": 4,
 "nbformat_minor": 4
}
