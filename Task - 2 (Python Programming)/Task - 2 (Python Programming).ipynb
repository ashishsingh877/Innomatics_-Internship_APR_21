{
 "cells": [
  {
   "cell_type": "markdown",
   "metadata": {},
   "source": [
    "### Question1"
   ]
  },
  {
   "cell_type": "code",
   "execution_count": null,
   "metadata": {},
   "outputs": [],
   "source": [
    "x = int(input())\n",
    "y = int(input())\n",
    "z = int(input())\n",
    "n = int(input())\n",
    "\n",
    "\n",
    "res = []\n",
    "temp = []\n",
    "for x in range(x+1):\n",
    "    for y in range(y+1):\n",
    "        for z in range(z+1):\n",
    "            if x+y+z != n:\n",
    "                temp = [x,y,z]\n",
    "                res.append(temp)\n",
    "print(res)"
   ]
  },
  {
   "cell_type": "markdown",
   "metadata": {},
   "source": [
    "### Question2"
   ]
  },
  {
   "cell_type": "code",
   "execution_count": null,
   "metadata": {},
   "outputs": [],
   "source": [
    "lst = []\n",
    "n = int(input())\n",
    "for i in range(0, n):\n",
    "    ele = int (input())\n",
    "    lst.append(ele)\n",
    "lst.sort()\n",
    "uni=set(lst)\n",
    "arr=list(uni)\n",
    "m=len(arr)\n",
    "res=arr[-2]    \n",
    "print(res)"
   ]
  },
  {
   "cell_type": "markdown",
   "metadata": {},
   "source": [
    "### Question2_for_hackerrank_con"
   ]
  },
  {
   "cell_type": "markdown",
   "metadata": {},
   "source": [
    "n= int(input())\n",
    "arr = input().split()\n",
    "arr1 = map(int, arr)\n",
    "arr1=set(list(arr1))\n",
    "arr1=sorted(arr1)\n",
    "print(arr1[-2])"
   ]
  },
  {
   "cell_type": "markdown",
   "metadata": {},
   "source": [
    "### Question3"
   ]
  },
  {
   "cell_type": "code",
   "execution_count": null,
   "metadata": {},
   "outputs": [],
   "source": [
    "lst=[]\n",
    "for i in range(int(input())):\n",
    "    name = input()\n",
    "    score = float(input())\n",
    "    lst.append([name,score])\n",
    "second_hig = sorted(set([score for name, score in lst]))[1]\n",
    "print('\\n'.join(sorted([name for name, score in lst if score == second_hig])))"
   ]
  },
  {
   "cell_type": "markdown",
   "metadata": {},
   "source": [
    "### Question4"
   ]
  },
  {
   "cell_type": "code",
   "execution_count": null,
   "metadata": {},
   "outputs": [],
   "source": [
    "n = int(input())\n",
    "student_marks = {}\n",
    "for _ in range(n):\n",
    "    name, *line = input().split()\n",
    "    scores = list(map(float, line))\n",
    "    scores=sum(scores)/3\n",
    "    student_marks[name] = scores\n",
    "query_name = input()\n",
    "\n",
    "print('%.2f'%student_marks[query_name])"
   ]
  },
  {
   "cell_type": "markdown",
   "metadata": {},
   "source": [
    "### Question5"
   ]
  },
  {
   "cell_type": "code",
   "execution_count": null,
   "metadata": {},
   "outputs": [],
   "source": [
    "N = int(input())\n",
    "Output = [];\n",
    "for i in range(0,N):\n",
    "    ip = input().split()\n",
    "    if ip[0] == \"print\":\n",
    "        print(Output)\n",
    "    elif ip[0] == \"insert\":\n",
    "        Output.insert(int(ip[1]),int(ip[2]))\n",
    "    elif ip[0] == \"remove\":\n",
    "        Output.remove(int(ip[1]))\n",
    "    elif ip[0] == \"pop\":\n",
    "        Output.pop()\n",
    "    elif ip[0] == \"append\":\n",
    "        Output.append(int(ip[1]))\n",
    "    elif ip[0] == \"sort\":\n",
    "        Output.sort()\n",
    "    else:\n",
    "        Output.reverse()"
   ]
  },
  {
   "cell_type": "markdown",
   "metadata": {},
   "source": [
    "### Question6"
   ]
  },
  {
   "cell_type": "code",
   "execution_count": null,
   "metadata": {},
   "outputs": [],
   "source": [
    "n = int(input())\n",
    "integer_list = map(int, input().split())\n",
    "t = tuple(integer_list)\n",
    "print(hash(t))\n"
   ]
  },
  {
   "cell_type": "markdown",
   "metadata": {},
   "source": [
    "### Question7"
   ]
  },
  {
   "cell_type": "code",
   "execution_count": null,
   "metadata": {},
   "outputs": [],
   "source": [
    "def average(array):\n",
    "    arr1=set(array)\n",
    "    res=(sum(arr1)/len(arr1))\n",
    "    return res\n",
    "\n",
    "if __name__ == '__main__':\n",
    "    n = int(input())\n",
    "    arr = list(map(int, input().split()))\n",
    "    result = average(arr)\n",
    "    print(result)"
   ]
  },
  {
   "cell_type": "markdown",
   "metadata": {},
   "source": [
    "### Question8"
   ]
  },
  {
   "cell_type": "code",
   "execution_count": null,
   "metadata": {},
   "outputs": [],
   "source": [
    "temp_i=input().split()\n",
    "n = int(temp_i[0])\n",
    "m = int(temp_i[1])\n",
    "\n",
    "lst=[]\n",
    "count=0\n",
    "lst = list(map(int, input().strip().split()))\n",
    "\n",
    "A = set(map(int, input().strip().split()))\n",
    "B = set(map(int, input().strip().split()))\n",
    "\n",
    "\n",
    "for i in lst:\n",
    "    if i in A:\n",
    "        count = count+1\n",
    "    if i in B:\n",
    "        count = count-1\n",
    "\n",
    "print(count)"
   ]
  },
  {
   "cell_type": "markdown",
   "metadata": {},
   "source": [
    "### Question9"
   ]
  },
  {
   "cell_type": "code",
   "execution_count": null,
   "metadata": {},
   "outputs": [],
   "source": [
    "\n",
    "n=int(input())\n",
    "A = set(map(int, input().split()))\n",
    "m=int(input())\n",
    "B = set(map(int, input().split()))\n",
    "diff1=A.difference(B)\n",
    "diff2=B.difference(A)\n",
    "out=diff2.union(diff1)\n",
    "for i in sorted(list(out)):\n",
    "    print(i)\n"
   ]
  },
  {
   "cell_type": "markdown",
   "metadata": {},
   "source": [
    "### Question10"
   ]
  },
  {
   "cell_type": "code",
   "execution_count": null,
   "metadata": {},
   "outputs": [],
   "source": [
    "a=set()\n",
    "n=int(input())\n",
    "for ele in range(0,n):\n",
    "    a.add(input())\n",
    "b=len(a)\n",
    "print(b)        "
   ]
  },
  {
   "cell_type": "markdown",
   "metadata": {},
   "source": [
    "### Question11"
   ]
  },
  {
   "cell_type": "code",
   "execution_count": null,
   "metadata": {},
   "outputs": [],
   "source": [
    "n = int(input())\n",
    "s = set(map(int, input().split()))\n",
    "\n",
    "N = int(input())\n",
    "for i in range(0,N):\n",
    "    ip = input().split()\n",
    "    if ip[0] == \"remove\":\n",
    "        s.remove(int(ip[1]))\n",
    "    elif ip[0] == \"discard\":\n",
    "        s.discard(int(ip[1]))\n",
    "    else:\n",
    "        s.pop()\n",
    "print(sum(list(s)))"
   ]
  },
  {
   "cell_type": "markdown",
   "metadata": {},
   "source": [
    "### Question12"
   ]
  },
  {
   "cell_type": "code",
   "execution_count": null,
   "metadata": {},
   "outputs": [],
   "source": [
    "n = int(input())\n",
    "s1 = set(map(int, input().split()))\n",
    "m = int(input())\n",
    "s2 = set(map(int, input().split()))\n",
    "\n",
    "out=s1.union(s2)\n",
    "print(len(out))"
   ]
  },
  {
   "cell_type": "markdown",
   "metadata": {},
   "source": [
    "### Question13"
   ]
  },
  {
   "cell_type": "code",
   "execution_count": null,
   "metadata": {},
   "outputs": [],
   "source": [
    "n = int(input())\n",
    "s1 = set(map(int, input().split()))\n",
    "m = int(input())\n",
    "s2 = set(map(int, input().split()))\n",
    "\n",
    "out=s1.intersection(s2)\n",
    "print(len(out))"
   ]
  },
  {
   "cell_type": "markdown",
   "metadata": {},
   "source": [
    "### Question14"
   ]
  },
  {
   "cell_type": "code",
   "execution_count": null,
   "metadata": {},
   "outputs": [],
   "source": [
    "n = int(input())\n",
    "s1 = set(map(int, input().split()))\n",
    "m = int(input())\n",
    "s2 = set(map(int, input().split()))\n",
    "\n",
    "out=s1.difference(s2)\n",
    "print(len(out))"
   ]
  },
  {
   "cell_type": "markdown",
   "metadata": {},
   "source": [
    "### Question15"
   ]
  },
  {
   "cell_type": "code",
   "execution_count": null,
   "metadata": {},
   "outputs": [],
   "source": [
    "n = int(input())\n",
    "s1 = set(map(int, input().split()))\n",
    "m = int(input())\n",
    "s2 = set(map(int, input().split()))\n",
    "\n",
    "out=s1.symmetric_difference(s2)\n",
    "print(len(out))"
   ]
  },
  {
   "cell_type": "markdown",
   "metadata": {},
   "source": [
    "### Question16"
   ]
  },
  {
   "cell_type": "code",
   "execution_count": null,
   "metadata": {},
   "outputs": [],
   "source": [
    "n = int(input())\n",
    "s = set(map(int, input().split()))\n",
    "\n",
    "N = int(input())\n",
    "for i in range(0,N):\n",
    "    ip = input().split()\n",
    "    if ip[0] == \"intersection_update\":\n",
    "        temp_s= set(map(int, input().split()))\n",
    "        s.intersection_update(temp_s)\n",
    "    elif ip[0] == \"update\":\n",
    "        temp_s= set(map(int, input().split()))\n",
    "        s.update(temp_s)\n",
    "    elif ip[0]==\"symmetric_difference_update\":\n",
    "        temp_s= set(map(int, input().split()))\n",
    "        s.symmetric_difference_update(temp_s)\n",
    "    else:\n",
    "        temp_s= set(map(int, input().split()))\n",
    "        s.difference_update(temp_s)\n",
    "print(sum(list(s)))"
   ]
  },
  {
   "cell_type": "code",
   "execution_count": null,
   "metadata": {},
   "outputs": [],
   "source": [
    "### Question17"
   ]
  },
  {
   "cell_type": "code",
   "execution_count": null,
   "metadata": {},
   "outputs": [],
   "source": [
    "n=int(input())\n",
    "lst = list(map(int, input().split()))\n",
    "a=set(lst)\n",
    "print(((sum(a)*n)-(sum(lst)))//(n-1))"
   ]
  },
  {
   "cell_type": "markdown",
   "metadata": {},
   "source": [
    "### Question18"
   ]
  },
  {
   "cell_type": "code",
   "execution_count": null,
   "metadata": {},
   "outputs": [],
   "source": [
    "n = int(input())\n",
    "for i in range(n):\n",
    "    a = input()\n",
    "    A = set(input().split())\n",
    "    b = int(input())\n",
    "    B = set(input().split())\n",
    "    print(A.issubset(B))"
   ]
  },
  {
   "cell_type": "markdown",
   "metadata": {},
   "source": [
    "### Question19"
   ]
  },
  {
   "cell_type": "code",
   "execution_count": null,
   "metadata": {},
   "outputs": [],
   "source": [
    "m_set = set(input().split())\n",
    "n = int(input())\n",
    "out=True\n",
    "for i in range(n):\n",
    "    t_set= set(input().split())\n",
    "    if not t_set.issuperset(m_set):\n",
    "        out= False\n",
    "    if len(t_set)>=len(m_set):\n",
    "        out=False\n",
    "print(out)             "
   ]
  }
 ],
 "metadata": {
  "kernelspec": {
   "display_name": "Python 3",
   "language": "python",
   "name": "python3"
  },
  "language_info": {
   "codemirror_mode": {
    "name": "ipython",
    "version": 3
   },
   "file_extension": ".py",
   "mimetype": "text/x-python",
   "name": "python",
   "nbconvert_exporter": "python",
   "pygments_lexer": "ipython3",
   "version": "3.9.0"
  }
 },
 "nbformat": 4,
 "nbformat_minor": 4
}
